{
 "cells": [
  {
   "cell_type": "code",
   "execution_count": null,
   "metadata": {},
   "outputs": [],
   "source": [
    "# Import necessary libraries\n",
    "from collections import Counter\n",
    "import numpy as np\n",
    "import pandas as pd\n",
    "import datetime as dt\n",
    "import networkx as nx\n",
    "import json\n",
    "import urllib.request\n",
    "from networkx.algorithms import bipartite\n",
    "import powerlaw\n",
    "import matplotlib.pyplot as plt\n",
    "import os\n",
    "\n",
    "# Set plot parameters\n",
    "plt.rcParams['figure.facecolor'] = 'white'\n",
    "plt.rcParams['axes.facecolor']='white'\n",
    "plt.rcParams['savefig.facecolor']='white'\n",
    "plt.rc('axes', axisbelow=True)\n",
    "%matplotlib inline\n"
   ]
  },
  {
   "cell_type": "code",
   "execution_count": null,
   "metadata": {},
   "outputs": [],
   "source": [
    "def findFilesInFolder(path, pathList, extension, subFolders = True):\n",
    "    try:   # Trapping a OSError:  File permissions problem I believe\n",
    "        for entry in os.scandir(path):\n",
    "            if entry.is_file() and entry.path.endswith(extension):\n",
    "                pathList.append(entry.path)\n",
    "            elif entry.is_dir() and subFolders: \n",
    "                pathList = findFilesInFolder(entry.path, pathList,\n",
    "                                             extension, subFolders)\n",
    "    except OSError as err:\n",
    "        print(os.getcwd())\n",
    "        print('Cannot access ' + path +'. Probably a permissions error', err)\n",
    "    return pathList\n",
    "\n",
    "os.chdir('/Users/aurora/northeastern/PHYS5116/irish-schools-collection')\n",
    "dir_name_el = 'data/out'\n",
    "extension_el = '.json'\n",
    "pathList_el = []\n",
    "flist_el = findFilesInFolder(dir_name_el, pathList_el, extension_el, True)\n",
    "flist_el = sorted(flist_el)\n",
    "print(len(flist_el),\"files total. E.g.:\")\n",
    "flist_el[:5]"
   ]
  },
  {
   "cell_type": "code",
   "execution_count": null,
   "metadata": {},
   "outputs": [],
   "source": [
    "G = nx.Graph()\n",
    "\n",
    "school = set()\n",
    "files = set()\n",
    "\n",
    "for file in flist_el:\n",
    "    with open(file, 'r') as f:\n",
    "        data = json.load(f)\n",
    "        \n",
    "        if file not in files:\n",
    "            G.add_node(file, bipartite=0)\n",
    "            files.add(file)\n",
    "        \n",
    "        for keys, record in data.items():\n",
    "            if record['school_info'] not in school:\n",
    "                G.add_node(record['school_info'], key = keys, bipartite=1)\n",
    "                school.add(record['school_info'])\n",
    "            \n",
    "            # Check if the edge exists\n",
    "            if G.has_edge(file, record['school_info']):\n",
    "                # If it does, increment the weight\n",
    "                G[file][record['school_info']]['weight'] += 1\n",
    "            else:\n",
    "                # If it doesn't, add the edge with a weight of 1\n",
    "                G.add_edge(file, record['school_info'], weight=1)\n",
    "\n",
    "\n",
    "\n",
    "\n"
   ]
  },
  {
   "cell_type": "code",
   "execution_count": null,
   "metadata": {},
   "outputs": [],
   "source": [
    "\n",
    "plt.figure(figsize=(20, 20))  \n",
    "\n",
    "\n",
    "degree_threshold = 0\n",
    "filtered_nodes = [node for node, degree in G.degree() if degree > degree_threshold]\n",
    "subgraph = G.subgraph(filtered_nodes)\n",
    "set1, set2 = nx.bipartite.sets(subgraph)\n",
    "\n",
    "# Assign colors\n",
    "node_colors = [\"red\" if node in set1 else \"skyblue\" for node in subgraph.nodes()]\n",
    "# Layout\n",
    "pos = nx.spring_layout(subgraph)\n",
    "\n",
    "# Draw the graph\n",
    "nx.draw(subgraph, pos,  node_size=30, font_size=8, node_color=node_colors, font_color=\"black\", edge_color=\"gray\", alpha=1)\n",
    "\n",
    "plt.title(\"Filtered Bipartite Graph of Schools and Files\")\n",
    "plt.show()"
   ]
  },
  {
   "cell_type": "code",
   "execution_count": null,
   "metadata": {},
   "outputs": [],
   "source": [
    "\n",
    "plt.figure(figsize=(20, 20))  \n",
    "\n",
    "\n",
    "degree_threshold = 0\n",
    "filtered_nodes = [node for node, degree in G.degree() if degree > degree_threshold]\n",
    "subgraph = G.subgraph(filtered_nodes)\n",
    "set1, set2 = nx.bipartite.sets(subgraph)\n",
    "\n",
    "# Assign colors\n",
    "node_colors = [\"red\" if node in set1 else \"skyblue\" for node in subgraph.nodes()]\n",
    "# Layout\n",
    "pos = nx.spring_layout(subgraph)\n",
    "\n",
    "# Draw the graph\n",
    "nx.draw(subgraph, pos,  node_size=30, font_size=8, node_color=node_colors, font_color=\"black\", edge_color=\"gray\", alpha=1)\n",
    "# print number of nodes and edges\n",
    "print(\"Number of nodes:\", subgraph.number_of_nodes())\n",
    "print(\"Number of edges:\", subgraph.number_of_edges())\n",
    "\n",
    "plt.title(\"Number of nodes: \" + str(subgraph.number_of_nodes()) + \" Number of edges: \" + str(subgraph.number_of_edges()))\n",
    "plt.show()"
   ]
  },
  {
   "cell_type": "code",
   "execution_count": null,
   "outputs": [],
   "source": [
    "print(sorted(school))"
   ],
   "metadata": {
    "collapsed": false
   }
  },
  {
   "cell_type": "code",
   "execution_count": null,
   "outputs": [],
   "source": [
    "# NOTE: this function was taken from the NETS_5116_2023-python-tutorial.ipynb notebook that was used during the NetworkX tutorial class\n",
    "\n",
    "def plot_degree(degree, number_of_bins=50, log_binning=True, base=2):\n",
    "    \"\"\"\n",
    "    Given a degree sequence, return the y values (probability) and the\n",
    "    x values (support) of a degree distribution that you're going to plot.\n",
    "\n",
    "    Parameters\n",
    "    ----------\n",
    "    degree (np.ndarray or list):\n",
    "        a vector of length N that corresponds to the degree, k_i, of every\n",
    "        node, v_i, in the network\n",
    "\n",
    "    number_of_bins (int):\n",
    "        length of output vectors\n",
    "\n",
    "    log_binning (bool)\n",
    "        if you are plotting on a log-log axis, then this is useful\n",
    "\n",
    "    base (int):\n",
    "        log base, defaults to 2\n",
    "\n",
    "    Returns\n",
    "    -------\n",
    "    x, y (np.ndarray):\n",
    "        the support and probability values of the degree distribution\n",
    "\n",
    "    \"\"\"\n",
    "\n",
    "    # We need to define the support of our distribution\n",
    "    lower_bound = min(degree)\n",
    "    upper_bound = max(degree)\n",
    "\n",
    "    # And the bins\n",
    "    if log_binning:\n",
    "        log = np.log2 if base == 2 else np.log10\n",
    "        lower_bound = log(lower_bound) if lower_bound >= 1 else 0.0\n",
    "        upper_bound = log(upper_bound)\n",
    "        bins = np.logspace(lower_bound,upper_bound,number_of_bins, base = base)\n",
    "    else:\n",
    "        bins = np.linspace(lower_bound,upper_bound,number_of_bins)\n",
    "\n",
    "    # Then we can compute the histogram using numpy\n",
    "    y, __ = np.histogram(degree,\n",
    "                         bins=bins,\n",
    "                         density=True)\n",
    "    # Now, we need to compute for each y the value of x\n",
    "    x = bins[1:] - np.diff(bins)/2.0\n",
    "\n",
    "    return x, y"
   ],
   "metadata": {
    "collapsed": false
   }
  },
  {
   "cell_type": "code",
   "execution_count": null,
   "outputs": [],
   "source": [
    "file_set = {n for n, d in subgraph.nodes(data=True) if d[\"bipartite\"] == 0}\n",
    "print(file_set)\n",
    "school_set = set(subgraph) - file_set\n",
    "#print(sorted(school_set))"
   ],
   "metadata": {
    "collapsed": false
   }
  },
  {
   "cell_type": "code",
   "execution_count": null,
   "outputs": [],
   "source": [
    "deg_tup_schools, deg_tup_files = bipartite.degrees(subgraph, file_set)\n",
    "print(deg_tup_files)"
   ],
   "metadata": {
    "collapsed": false
   }
  },
  {
   "cell_type": "code",
   "execution_count": null,
   "outputs": [],
   "source": [
    "deg_schools = [pair[1] for pair in list(deg_tup_schools)]\n",
    "deg_files = [pair[1] for pair in list(deg_tup_files)]"
   ],
   "metadata": {
    "collapsed": false
   }
  },
  {
   "cell_type": "code",
   "execution_count": null,
   "outputs": [],
   "source": [
    "x_school, y_school = plot_degree(deg_schools)\n",
    "x_topic, y_topic = plot_degree(deg_files)"
   ],
   "metadata": {
    "collapsed": false
   }
  },
  {
   "cell_type": "code",
   "execution_count": null,
   "outputs": [],
   "source": [
    "fig, ax = plt.subplots(1,1,figsize=(6,4),dpi=150)\n",
    "\n",
    "ax.loglog(x_school, y_school,'o', color='blue', label='school', alpha=0.8)\n",
    "ax.loglog(x_topic, y_topic,'s', color='red', label='topic', alpha=0.8)\n",
    "\n",
    "\n",
    "ax.set_xlabel(r\"$k$\", fontsize=16)\n",
    "ax.set_ylabel(r\"$P(k)$\", fontsize=16)\n",
    "\n",
    "ax.set_title(\"Degree distribution of bipartite network by node set\")\n",
    "\n",
    "ax.legend(fontsize=14)\n",
    "\n",
    "ax.grid(linewidth=1.25, color='#999999', alpha=0.2, linestyle='-')\n",
    "\n",
    "plt.savefig('./figs/pngs/bipartite_degreedist.png', dpi=425, bbox_inches='tight')\n",
    "plt.savefig('./figs/pdfs/bipartite_degreedist.pdf', bbox_inches='tight')\n",
    "plt.show()"
   ],
   "metadata": {
    "collapsed": false
   }
  },
  {
   "cell_type": "code",
   "execution_count": null,
   "outputs": [],
   "source": [
    "all_degrees = list(dict(subgraph.degree).values())\n",
    "print(all_degrees)"
   ],
   "metadata": {
    "collapsed": false
   }
  },
  {
   "cell_type": "code",
   "execution_count": null,
   "outputs": [],
   "source": [
    "x_all, y_all = plot_degree(all_degrees)"
   ],
   "metadata": {
    "collapsed": false
   }
  },
  {
   "cell_type": "code",
   "execution_count": null,
   "outputs": [],
   "source": [
    "fig, ax = plt.subplots(1,1,figsize=(6,4),dpi=150)\n",
    "\n",
    "ax.loglog(x_all, y_all,'o', color='blue', label='node', alpha=0.8)\n",
    "\n",
    "ax.set_xlabel(r\"$k$\", fontsize=16)\n",
    "ax.set_ylabel(r\"$P(k)$\", fontsize=16)\n",
    "\n",
    "ax.set_title(\"Degree distribution of bipartite network\")\n",
    "\n",
    "ax.legend(fontsize=14)\n",
    "\n",
    "ax.grid(linewidth=1.25, color='#999999', alpha=0.2, linestyle='-')\n",
    "\n",
    "plt.savefig('./figs/pngs/all_bipartite_degreedist.png', dpi=425, bbox_inches='tight')\n",
    "plt.savefig('./figs/pdfs/all_bipartite_degreedist.pdf', bbox_inches='tight')\n",
    "plt.show()"
   ],
   "metadata": {
    "collapsed": false
   }
  },
  {
   "cell_type": "markdown",
   "source": [
    "# Gamma estimate"
   ],
   "metadata": {
    "collapsed": false
   }
  },
  {
   "cell_type": "code",
   "execution_count": null,
   "outputs": [],
   "source": [
    "bipartite_gamma = powerlaw.Fit(all_degrees)\n",
    "print(bipartite_gamma.alpha)"
   ],
   "metadata": {
    "collapsed": false
   }
  },
  {
   "cell_type": "code",
   "execution_count": null,
   "outputs": [],
   "source": [
    "schools_gamma = powerlaw.Fit(deg_schools)\n",
    "print(schools_gamma.alpha)"
   ],
   "metadata": {
    "collapsed": false
   }
  },
  {
   "cell_type": "code",
   "execution_count": null,
   "outputs": [],
   "source": [
    "topics_gamma = powerlaw.Fit(deg_files)\n",
    "print(topics_gamma.alpha)"
   ],
   "metadata": {
    "collapsed": false
   }
  },
  {
   "cell_type": "code",
   "execution_count": null,
   "outputs": [],
   "source": [
    "print(nx.bipartite.is_bipartite_node_set(subgraph, school_set))"
   ],
   "metadata": {
    "collapsed": false
   }
  },
  {
   "cell_type": "code",
   "execution_count": null,
   "metadata": {},
   "outputs": [],
   "source": [
    "projected_graph = bipartite.projected_graph(subgraph, school_set)\n",
    "\n",
    "plt.figure(figsize=(20, 20))\n",
    "\n",
    "# Draw the projected graph\n",
    "nx.draw(projected_graph, with_labels=False, node_size=30, font_size=8, node_color=\"skyblue\", font_color=\"black\", edge_color=\"gray\", alpha=1)\n",
    "\n",
    "plt.title(\"Number of nodes: \" + str(projected_graph.number_of_nodes()) + \" Number of edges: \" + str(projected_graph.number_of_edges()))\n",
    "plt.show()"
   ]
  },
  {
   "cell_type": "code",
   "execution_count": null,
   "outputs": [],
   "source": [
    "projected_degree = [pair[1] for pair in list(projected_graph.degree)]\n",
    "print(projected_degree)"
   ],
   "metadata": {
    "collapsed": false
   }
  },
  {
   "cell_type": "code",
   "execution_count": null,
   "outputs": [],
   "source": [
    "x_proj_school, y_proj_school = plot_degree(projected_degree)"
   ],
   "metadata": {
    "collapsed": false
   }
  },
  {
   "cell_type": "code",
   "execution_count": null,
   "outputs": [],
   "source": [
    "fig, ax = plt.subplots(1,1,figsize=(6,4),dpi=150)\n",
    "\n",
    "ax.loglog(x_proj_school, y_proj_school,'o', label='degree', alpha=0.8)\n",
    "\n",
    "\n",
    "ax.set_xlabel(r\"$k$\", fontsize=16)\n",
    "ax.set_ylabel(r\"$P(k)$\", fontsize=16)\n",
    "\n",
    "ax.legend(fontsize=14)\n",
    "\n",
    "ax.grid(linewidth=1.25, color='#999999', alpha=0.2, linestyle='-')\n",
    "\n",
    "plt.savefig('./figs/pngs/og_projected_degreedist.png', dpi=425, bbox_inches='tight')\n",
    "plt.savefig('./figs/pdfs/og_projected_degreedist.pdf', bbox_inches='tight')\n",
    "plt.show()"
   ],
   "metadata": {
    "collapsed": false
   }
  },
  {
   "cell_type": "code",
   "execution_count": null,
   "outputs": [],
   "source": [
    "projected_topic_graph = bipartite.projected_graph(subgraph, file_set)\n",
    "\n",
    "plt.figure(figsize=(20, 20))\n",
    "\n",
    "# Draw the projected graph\n",
    "nx.draw(projected_topic_graph, with_labels=False, node_size=30, font_size=8, node_color=\"skyblue\", font_color=\"black\", edge_color=\"gray\", alpha=1)\n",
    "\n",
    "plt.title(\"Number of nodes: \" + str(projected_topic_graph.number_of_nodes()) + \" Number of edges: \" + str(projected_topic_graph.number_of_edges()))\n",
    "plt.show()"
   ],
   "metadata": {
    "collapsed": false
   }
  },
  {
   "cell_type": "code",
   "execution_count": null,
   "outputs": [],
   "source": [
    "projected_topic_degree = [pair[1] for pair in list(projected_topic_graph.degree)]"
   ],
   "metadata": {
    "collapsed": false
   }
  },
  {
   "cell_type": "code",
   "execution_count": null,
   "outputs": [],
   "source": [
    "print(projected_topic_degree)"
   ],
   "metadata": {
    "collapsed": false
   }
  },
  {
   "cell_type": "code",
   "execution_count": null,
   "outputs": [],
   "source": [
    "x_proj_topic, y_proj_topic = plot_degree(projected_topic_degree)"
   ],
   "metadata": {
    "collapsed": false
   }
  },
  {
   "cell_type": "code",
   "execution_count": null,
   "outputs": [],
   "source": [
    "fig, ax = plt.subplots(1,1,figsize=(6,4),dpi=150)\n",
    "\n",
    "ax.loglog(x_proj_topic, y_proj_topic,'o', label='degree', alpha=0.8)\n",
    "\n",
    "\n",
    "ax.set_xlabel(r\"$k$\", fontsize=16)\n",
    "ax.set_ylabel(r\"$P(k)$\", fontsize=16)\n",
    "\n",
    "ax.set_title(\"Degree Distribution in the Projected Topic Graph\")\n",
    "\n",
    "ax.legend(fontsize=14)\n",
    "\n",
    "ax.grid(linewidth=1.25, color='#999999', alpha=0.2, linestyle='-')\n",
    "\n",
    "plt.savefig('./figs/pngs/og_projected_topic_degreedist.png', dpi=425, bbox_inches='tight')\n",
    "plt.savefig('./figs/pdfs/og_projected_topic_degreedist.pdf', bbox_inches='tight')\n",
    "plt.show()"
   ],
   "metadata": {
    "collapsed": false
   }
  },
  {
   "cell_type": "code",
   "execution_count": null,
   "outputs": [],
   "source": [
    "plt.figure(figsize=(10, 6))\n",
    "plt.hist(projected_topic_degree, bins=100, color='blue', alpha=0.7)  # Adjust 'bins' as needed\n",
    "plt.title(\"Degree Distribution in the Projected Topic Graph\")\n",
    "plt.xlabel(\"Degree\")\n",
    "plt.ylabel(\"Number of Nodes\")\n",
    "\n",
    "plt.savefig('./figs/pngs/og_projected_topic_degreedist_hist.png', dpi=425, bbox_inches='tight')\n",
    "plt.savefig('./figs/pdfs/og_projected_topic_degreedist_hist.pdf', bbox_inches='tight')\n",
    "\n",
    "plt.show()"
   ],
   "metadata": {
    "collapsed": false
   }
  },
  {
   "cell_type": "code",
   "execution_count": null,
   "outputs": [],
   "source": [
    "len([deg for deg in projected_topic_degree if deg >= 190])"
   ],
   "metadata": {
    "collapsed": false
   }
  },
  {
   "cell_type": "markdown",
   "metadata": {},
   "source": [
    "## With some degree threshold"
   ]
  },
  {
   "cell_type": "code",
   "execution_count": null,
   "metadata": {},
   "outputs": [],
   "source": [
    "edge_threshold = 0\n",
    "filtered_edges = [(source, target) for source, target, weight in subgraph.edges(data=\"weight\") if weight > edge_threshold]\n",
    "\n",
    "# Create a new Graph with all nodes but only the filtered edges\n",
    "filtered_graph = nx.Graph()\n",
    "# filtered_graph.add_nodes_from(subgraph.nodes(data=True))\n",
    "filtered_graph.add_edges_from(filtered_edges)\n",
    "\n",
    "# Assign colors\n",
    "node_colors = [\"red\" if node in set1 else \"skyblue\" for node in filtered_graph.nodes()]\n",
    "# Layout\n",
    "pos = nx.spring_layout(filtered_graph)\n",
    "# Adjust node sizes based on degree\n",
    "node_sizes = [G.degree(node) * 1 for node in filtered_graph.nodes()]\n",
    "\n",
    "# Adjust edge widths based on weight\n",
    "edge_widths = [G[u][v]['weight'] * 0.1 for u, v in filtered_graph.edges()]\n",
    "\n",
    "# Improved layout\n",
    "pos = nx.spring_layout(filtered_graph, k=0.1, iterations=50)\n",
    "\n",
    "# Drawing the improved graph\n",
    "plt.figure(figsize=(20, 20))\n",
    "nx.draw(filtered_graph, pos, node_size=node_sizes, width=edge_widths, \n",
    "        node_color=node_colors, font_color=\"black\", edge_color=\"gray\", alpha=0.7)\n",
    "\n",
    "plt.title(\"Number of nodes: \" + str(filtered_graph.number_of_nodes()) + \" Number of edges: \" + str(filtered_graph.number_of_edges()))\n",
    "plt.show()\n"
   ]
  },
  {
   "cell_type": "code",
   "execution_count": null,
   "metadata": {},
   "outputs": [],
   "source": [
    "# Filter the nodes in set1 to ensure they are in filtered_graph\n",
    "set1_filtered = [node for node in set2 if node in filtered_graph.nodes()]\n",
    "\n",
    "# Now use the filtered set for the projection\n",
    "projected_graph = bipartite.projected_graph(filtered_graph, nodes=set1_filtered)\n",
    "\n",
    "# Adjusting node sizes and edge widths for the projected graph\n",
    "node_sizes_projected = [projected_graph.degree(node) * 1 for node in projected_graph.nodes()]\n",
    "edge_widths_projected = [data['weight'] * 0.1 for u, v, data in projected_graph.edges(data=True) if 'weight' in data]\n",
    "\n",
    "# Using the spring layout for visualization\n",
    "pos_projected = nx.spring_layout(projected_graph, k=0.1, iterations=50)\n",
    "\n",
    "# Drawing the projected graph\n",
    "plt.figure(figsize=(20, 20))\n",
    "nx.draw(projected_graph, pos_projected, node_size=node_sizes_projected, width=edge_widths_projected,\n",
    "        node_color=\"red\", font_color=\"black\", edge_color=\"gray\", alpha=0.7)\n",
    "\n",
    "plt.title(\"Projected Graph: Number of nodes: \" + str(projected_graph.number_of_nodes()) + \" Number of edges: \" + str(projected_graph.number_of_edges()))\n",
    "plt.show()\n"
   ]
  },
  {
   "cell_type": "code",
   "execution_count": null,
   "metadata": {},
   "outputs": [],
   "source": [
    "desired_directory = \"/Users/bijinjoseph/Documents/University/Research/Etoro\"\n",
    "os.chdir(desired_directory)\n",
    "nx.write_gexf(projected_graph, \"filtered_graph_with_nodes\"+str(edge_threshold)+\".gexf\")"
   ]
  },
  {
   "cell_type": "code",
   "execution_count": null,
   "metadata": {},
   "outputs": [],
   "source": [
    "# Filter the nodes in set1 to ensure they are in filtered_graph\n",
    "set1_filtered = [node for node in set1 if node in filtered_graph.nodes()]\n",
    "\n",
    "# Now use the filtered set for the projection\n",
    "projected_graph = bipartite.projected_graph(filtered_graph, nodes=set1_filtered)\n",
    "\n",
    "# Adjusting node sizes and edge widths for the projected graph\n",
    "node_sizes_projected = [projected_graph.degree(node) * np.exp(projected_graph.degree(node)) for node in projected_graph.nodes()]\n",
    "edge_widths_projected = [data['weight'] * 0.1 for u, v, data in projected_graph.edges(data=True) if 'weight' in data]\n",
    "\n",
    "# Using the spring layout for visualization\n",
    "pos_projected = nx.spring_layout(projected_graph, k=0.1, iterations=50)\n",
    "\n",
    "# Drawing the projected graph\n",
    "plt.figure(figsize=(20, 20))\n",
    "nx.draw(projected_graph, pos_projected, node_size=node_sizes_projected, width=edge_widths_projected,\n",
    "        node_color=\"red\", font_color=\"black\", edge_color=\"gray\", alpha=0.7)\n",
    "\n",
    "plt.title(\"Projected Graph: Number of nodes: \" + str(projected_graph.number_of_nodes()) + \" Number of edges: \" + str(projected_graph.number_of_edges()))\n",
    "plt.show()\n"
   ]
  },
  {
   "cell_type": "code",
   "execution_count": null,
   "metadata": {},
   "outputs": [],
   "source": [
    "import networkx as nx\n",
    "\n",
    "if nx.is_connected(projected_graph):\n",
    "    print(\"The graph is fully connected.\")\n",
    "else:\n",
    "    print(\"The graph is not fully connected.\")\n"
   ]
  },
  {
   "cell_type": "code",
   "execution_count": null,
   "metadata": {},
   "outputs": [],
   "source": []
  }
 ],
 "metadata": {
  "kernelspec": {
   "display_name": "base",
   "language": "python",
   "name": "python3"
  },
  "language_info": {
   "codemirror_mode": {
    "name": "ipython",
    "version": 3
   },
   "file_extension": ".py",
   "mimetype": "text/x-python",
   "name": "python",
   "nbconvert_exporter": "python",
   "pygments_lexer": "ipython3",
   "version": "3.11.4"
  }
 },
 "nbformat": 4,
 "nbformat_minor": 2
}
