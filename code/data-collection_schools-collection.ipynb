{
 "cells": [
  {
   "cell_type": "code",
   "execution_count": 63,
   "metadata": {},
   "outputs": [],
   "source": [
    "import numpy as np\n",
    "import pandas as pd\n",
    "import datetime as dt\n",
    "import os\n",
    "\n",
    "import json\n",
    "from PIL import Image\n",
    "import urllib.request\n",
    "import requests\n",
    "from bs4 import BeautifulSoup"
   ]
  },
  {
   "cell_type": "markdown",
   "metadata": {},
   "source": [
    "# Background\n",
    "\n",
    "https://www.irishtimes.com/life-and-style/people/ireland-s-darkest-oddest-and-weirdest-secrets-uncovered-1.3418059\n",
    "\n",
    "https://www.duchas.ie/download/17.01.26-irish-folklore-and-tradition.pdf\n",
    "\n",
    "https://www.frontiersin.org/articles/10.3389/fphar.2020.584595/full"
   ]
  },
  {
   "cell_type": "markdown",
   "metadata": {},
   "source": [
    "# Example\n",
    "https://www.duchas.ie/en/tpc/cbes/5098227?p=1"
   ]
  },
  {
   "cell_type": "markdown",
   "metadata": {},
   "source": [
    "# Full pipeline"
   ]
  },
  {
   "cell_type": "code",
   "execution_count": 64,
   "metadata": {},
   "outputs": [
    {
     "name": "stdout",
     "output_type": "stream",
     "text": [
      "https://www.duchas.ie/en/tpc/cbes\n"
     ]
    }
   ],
   "source": [
    "pp = 1\n",
    "base_url = 'https://www.duchas.ie'\n",
    "all_topics = base_url+'/en/tpc/cbes'\n",
    "print(all_topics)\n",
    "page_all = requests.get(all_topics)\n",
    "soup_all = BeautifulSoup(page_all.content, 'html.parser')\n",
    "all_topics_list = soup_all.find_all('ol',{'class':'svelte-5bilvy level1'})[0].find_all('a',href=True)"
   ]
  },
  {
   "cell_type": "code",
   "execution_count": 65,
   "metadata": {},
   "outputs": [],
   "source": [
    "all_data = {}\n",
    "#t_ix = 0\n",
    "#curr_idx = 0"
   ]
  },
  {
   "cell_type": "code",
   "execution_count": 67,
   "metadata": {},
   "outputs": [
    {
     "name": "stdout",
     "output_type": "stream",
     "text": [
      "2023-11-11 19:41:01.250556 \tStarting Agriculture\n",
      "\t Agriculture page: 001/136 ... 20 results on this page 2023-11-11 19:41:01.817168\n",
      "\t Agriculture page: 002/136 ... 20 results on this page 2023-11-11 19:41:12.787516\n",
      "\t Agriculture page: 003/136 ... 20 results on this page 2023-11-11 19:41:24.124548\n",
      "\t Agriculture page: 004/136 ... 20 results on this page 2023-11-11 19:41:36.477801\n",
      "\t Agriculture page: 005/136 ... 20 results on this page 2023-11-11 19:41:48.427239\n",
      "\t Agriculture page: 006/136 ... 20 results on this page 2023-11-11 19:41:59.905293\n",
      "\t Agriculture page: 007/136 ... 20 results on this page 2023-11-11 19:42:11.935537\n",
      "\t Agriculture page: 008/136 ... 20 results on this page 2023-11-11 19:42:23.404590\n",
      "\t Agriculture page: 009/136 ... 20 results on this page 2023-11-11 19:42:35.064567\n",
      "\t Agriculture page: 010/136 ... 20 results on this page 2023-11-11 19:42:46.774709\n",
      "\t Agriculture page: 011/136 ... 20 results on this page 2023-11-11 19:42:58.736535\n",
      "\t Agriculture page: 012/136 ... 20 results on this page 2023-11-11 19:43:10.491964\n",
      "\t Agriculture page: 013/136 ... 20 results on this page 2023-11-11 19:43:22.265557\n",
      "\t Agriculture page: 014/136 ... 20 results on this page 2023-11-11 19:43:33.323723\n",
      "\t Agriculture page: 015/136 ... 20 results on this page 2023-11-11 19:43:45.643670\n",
      "\t Agriculture page: 016/136 ... 20 results on this page 2023-11-11 19:43:57.204155\n",
      "\t Agriculture page: 017/136 ... 20 results on this page 2023-11-11 19:44:09.842356\n",
      "\t Agriculture page: 018/136 ... 20 results on this page 2023-11-11 19:44:21.632870\n",
      "\t Agriculture page: 019/136 ... 20 results on this page 2023-11-11 19:44:33.533483\n",
      "\t Agriculture page: 020/136 ... 20 results on this page 2023-11-11 19:44:44.552544\n",
      "\t Agriculture page: 021/136 ... 20 results on this page 2023-11-11 19:44:56.668730\n",
      "\t Agriculture page: 022/136 ... 20 results on this page 2023-11-11 19:45:07.848700\n",
      "\t Agriculture page: 023/136 ... 20 results on this page 2023-11-11 19:45:19.316211\n",
      "\t Agriculture page: 024/136 ... 20 results on this page 2023-11-11 19:45:30.733369\n",
      "\t Agriculture page: 025/136 ... 20 results on this page 2023-11-11 19:45:42.312433\n",
      "\t Agriculture page: 026/136 ... 20 results on this page 2023-11-11 19:45:54.746175\n",
      "\t Agriculture page: 027/136 ... 20 results on this page 2023-11-11 19:46:06.005210\n",
      "\t Agriculture page: 028/136 ... 20 results on this page 2023-11-11 19:46:17.272700\n",
      "\t Agriculture page: 029/136 ... 20 results on this page 2023-11-11 19:46:28.593598\n",
      "\t Agriculture page: 030/136 ... 20 results on this page 2023-11-11 19:46:39.812354\n",
      "\t Agriculture page: 031/136 ... 20 results on this page 2023-11-11 19:46:51.866604\n",
      "\t Agriculture page: 032/136 ... 20 results on this page 2023-11-11 19:47:03.588388\n",
      "\t Agriculture page: 033/136 ... 20 results on this page 2023-11-11 19:47:15.192015\n",
      "\t Agriculture page: 034/136 ... 20 results on this page 2023-11-11 19:47:26.527031\n",
      "\t Agriculture page: 035/136 ... 20 results on this page 2023-11-11 19:47:38.307046\n",
      "\t Agriculture page: 036/136 ... 20 results on this page 2023-11-11 19:47:50.052520\n",
      "\t Agriculture page: 037/136 ... 20 results on this page 2023-11-11 19:48:01.363500\n",
      "\t Agriculture page: 038/136 ... 20 results on this page 2023-11-11 19:48:12.302310\n",
      "\t Agriculture page: 039/136 ... 20 results on this page 2023-11-11 19:48:23.540152\n",
      "\t Agriculture page: 040/136 ... 20 results on this page 2023-11-11 19:48:34.645340\n",
      "\t Agriculture page: 041/136 ... 20 results on this page 2023-11-11 19:48:45.706061\n",
      "\t Agriculture page: 042/136 ... 20 results on this page 2023-11-11 19:48:56.589399\n",
      "\t Agriculture page: 043/136 ... 20 results on this page 2023-11-11 19:49:07.787318\n",
      "\t Agriculture page: 044/136 ... 20 results on this page 2023-11-11 19:49:18.852561\n",
      "\t Agriculture page: 045/136 ... 20 results on this page 2023-11-11 19:49:29.813626\n",
      "\t Agriculture page: 046/136 ... 20 results on this page 2023-11-11 19:49:40.725121\n",
      "\t Agriculture page: 047/136 ... 20 results on this page 2023-11-11 19:49:51.877415\n",
      "\t Agriculture page: 048/136 ... 20 results on this page 2023-11-11 19:50:03.731824\n",
      "\t Agriculture page: 049/136 ... 20 results on this page 2023-11-11 19:50:14.493091\n",
      "\t Agriculture page: 050/136 ... 20 results on this page 2023-11-11 19:50:26.919879\n",
      "\t Agriculture page: 051/136 ... 20 results on this page 2023-11-11 19:50:38.391961\n",
      "\t Agriculture page: 052/136 ... 20 results on this page 2023-11-11 19:50:49.971634\n",
      "\t Agriculture page: 053/136 ... 20 results on this page 2023-11-11 19:51:01.227318\n",
      "\t Agriculture page: 054/136 ... 20 results on this page 2023-11-11 19:51:12.483523\n"
     ]
    },
    {
     "ename": "KeyboardInterrupt",
     "evalue": "",
     "output_type": "error",
     "traceback": [
      "\u001B[0;31m---------------------------------------------------------------------------\u001B[0m",
      "\u001B[0;31mKeyboardInterrupt\u001B[0m                         Traceback (most recent call last)",
      "Cell \u001B[0;32mIn[67], line 43\u001B[0m\n\u001B[1;32m     41\u001B[0m \u001B[38;5;28;01mfor\u001B[39;00m sub_story_i \u001B[38;5;129;01min\u001B[39;00m all_stories_pp:\n\u001B[1;32m     42\u001B[0m     sub_story_url \u001B[38;5;241m=\u001B[39m base_url\u001B[38;5;241m+\u001B[39msub_story_i\u001B[38;5;241m.\u001B[39mfind(\u001B[38;5;124m'\u001B[39m\u001B[38;5;124ma\u001B[39m\u001B[38;5;124m'\u001B[39m,href\u001B[38;5;241m=\u001B[39m\u001B[38;5;28;01mTrue\u001B[39;00m)[\u001B[38;5;124m'\u001B[39m\u001B[38;5;124mhref\u001B[39m\u001B[38;5;124m'\u001B[39m]\n\u001B[0;32m---> 43\u001B[0m     page_i \u001B[38;5;241m=\u001B[39m \u001B[43mrequests\u001B[49m\u001B[38;5;241;43m.\u001B[39;49m\u001B[43mget\u001B[49m\u001B[43m(\u001B[49m\u001B[43msub_story_url\u001B[49m\u001B[43m)\u001B[49m\n\u001B[1;32m     44\u001B[0m     soup_i \u001B[38;5;241m=\u001B[39m BeautifulSoup(page_i\u001B[38;5;241m.\u001B[39mcontent, \u001B[38;5;124m'\u001B[39m\u001B[38;5;124mhtml.parser\u001B[39m\u001B[38;5;124m'\u001B[39m)\n\u001B[1;32m     45\u001B[0m     \u001B[38;5;66;03m#text_i = soup_i.find_all('div',{'class':'transcript'})\u001B[39;00m\n",
      "File \u001B[0;32m~/.pyenv/versions/3.8.16/lib/python3.8/site-packages/requests/api.py:73\u001B[0m, in \u001B[0;36mget\u001B[0;34m(url, params, **kwargs)\u001B[0m\n\u001B[1;32m     62\u001B[0m \u001B[38;5;28;01mdef\u001B[39;00m \u001B[38;5;21mget\u001B[39m(url, params\u001B[38;5;241m=\u001B[39m\u001B[38;5;28;01mNone\u001B[39;00m, \u001B[38;5;241m*\u001B[39m\u001B[38;5;241m*\u001B[39mkwargs):\n\u001B[1;32m     63\u001B[0m \u001B[38;5;250m    \u001B[39m\u001B[38;5;124mr\u001B[39m\u001B[38;5;124;03m\"\"\"Sends a GET request.\u001B[39;00m\n\u001B[1;32m     64\u001B[0m \n\u001B[1;32m     65\u001B[0m \u001B[38;5;124;03m    :param url: URL for the new :class:`Request` object.\u001B[39;00m\n\u001B[0;32m   (...)\u001B[0m\n\u001B[1;32m     70\u001B[0m \u001B[38;5;124;03m    :rtype: requests.Response\u001B[39;00m\n\u001B[1;32m     71\u001B[0m \u001B[38;5;124;03m    \"\"\"\u001B[39;00m\n\u001B[0;32m---> 73\u001B[0m     \u001B[38;5;28;01mreturn\u001B[39;00m \u001B[43mrequest\u001B[49m\u001B[43m(\u001B[49m\u001B[38;5;124;43m\"\u001B[39;49m\u001B[38;5;124;43mget\u001B[39;49m\u001B[38;5;124;43m\"\u001B[39;49m\u001B[43m,\u001B[49m\u001B[43m \u001B[49m\u001B[43murl\u001B[49m\u001B[43m,\u001B[49m\u001B[43m \u001B[49m\u001B[43mparams\u001B[49m\u001B[38;5;241;43m=\u001B[39;49m\u001B[43mparams\u001B[49m\u001B[43m,\u001B[49m\u001B[43m \u001B[49m\u001B[38;5;241;43m*\u001B[39;49m\u001B[38;5;241;43m*\u001B[39;49m\u001B[43mkwargs\u001B[49m\u001B[43m)\u001B[49m\n",
      "File \u001B[0;32m~/.pyenv/versions/3.8.16/lib/python3.8/site-packages/requests/api.py:59\u001B[0m, in \u001B[0;36mrequest\u001B[0;34m(method, url, **kwargs)\u001B[0m\n\u001B[1;32m     55\u001B[0m \u001B[38;5;66;03m# By using the 'with' statement we are sure the session is closed, thus we\u001B[39;00m\n\u001B[1;32m     56\u001B[0m \u001B[38;5;66;03m# avoid leaving sockets open which can trigger a ResourceWarning in some\u001B[39;00m\n\u001B[1;32m     57\u001B[0m \u001B[38;5;66;03m# cases, and look like a memory leak in others.\u001B[39;00m\n\u001B[1;32m     58\u001B[0m \u001B[38;5;28;01mwith\u001B[39;00m sessions\u001B[38;5;241m.\u001B[39mSession() \u001B[38;5;28;01mas\u001B[39;00m session:\n\u001B[0;32m---> 59\u001B[0m     \u001B[38;5;28;01mreturn\u001B[39;00m \u001B[43msession\u001B[49m\u001B[38;5;241;43m.\u001B[39;49m\u001B[43mrequest\u001B[49m\u001B[43m(\u001B[49m\u001B[43mmethod\u001B[49m\u001B[38;5;241;43m=\u001B[39;49m\u001B[43mmethod\u001B[49m\u001B[43m,\u001B[49m\u001B[43m \u001B[49m\u001B[43murl\u001B[49m\u001B[38;5;241;43m=\u001B[39;49m\u001B[43murl\u001B[49m\u001B[43m,\u001B[49m\u001B[43m \u001B[49m\u001B[38;5;241;43m*\u001B[39;49m\u001B[38;5;241;43m*\u001B[39;49m\u001B[43mkwargs\u001B[49m\u001B[43m)\u001B[49m\n",
      "File \u001B[0;32m~/.pyenv/versions/3.8.16/lib/python3.8/site-packages/requests/sessions.py:589\u001B[0m, in \u001B[0;36mSession.request\u001B[0;34m(self, method, url, params, data, headers, cookies, files, auth, timeout, allow_redirects, proxies, hooks, stream, verify, cert, json)\u001B[0m\n\u001B[1;32m    584\u001B[0m send_kwargs \u001B[38;5;241m=\u001B[39m {\n\u001B[1;32m    585\u001B[0m     \u001B[38;5;124m\"\u001B[39m\u001B[38;5;124mtimeout\u001B[39m\u001B[38;5;124m\"\u001B[39m: timeout,\n\u001B[1;32m    586\u001B[0m     \u001B[38;5;124m\"\u001B[39m\u001B[38;5;124mallow_redirects\u001B[39m\u001B[38;5;124m\"\u001B[39m: allow_redirects,\n\u001B[1;32m    587\u001B[0m }\n\u001B[1;32m    588\u001B[0m send_kwargs\u001B[38;5;241m.\u001B[39mupdate(settings)\n\u001B[0;32m--> 589\u001B[0m resp \u001B[38;5;241m=\u001B[39m \u001B[38;5;28;43mself\u001B[39;49m\u001B[38;5;241;43m.\u001B[39;49m\u001B[43msend\u001B[49m\u001B[43m(\u001B[49m\u001B[43mprep\u001B[49m\u001B[43m,\u001B[49m\u001B[43m \u001B[49m\u001B[38;5;241;43m*\u001B[39;49m\u001B[38;5;241;43m*\u001B[39;49m\u001B[43msend_kwargs\u001B[49m\u001B[43m)\u001B[49m\n\u001B[1;32m    591\u001B[0m \u001B[38;5;28;01mreturn\u001B[39;00m resp\n",
      "File \u001B[0;32m~/.pyenv/versions/3.8.16/lib/python3.8/site-packages/requests/sessions.py:747\u001B[0m, in \u001B[0;36mSession.send\u001B[0;34m(self, request, **kwargs)\u001B[0m\n\u001B[1;32m    744\u001B[0m         \u001B[38;5;28;01mpass\u001B[39;00m\n\u001B[1;32m    746\u001B[0m \u001B[38;5;28;01mif\u001B[39;00m \u001B[38;5;129;01mnot\u001B[39;00m stream:\n\u001B[0;32m--> 747\u001B[0m     \u001B[43mr\u001B[49m\u001B[38;5;241;43m.\u001B[39;49m\u001B[43mcontent\u001B[49m\n\u001B[1;32m    749\u001B[0m \u001B[38;5;28;01mreturn\u001B[39;00m r\n",
      "File \u001B[0;32m~/.pyenv/versions/3.8.16/lib/python3.8/site-packages/requests/models.py:899\u001B[0m, in \u001B[0;36mResponse.content\u001B[0;34m(self)\u001B[0m\n\u001B[1;32m    897\u001B[0m         \u001B[38;5;28mself\u001B[39m\u001B[38;5;241m.\u001B[39m_content \u001B[38;5;241m=\u001B[39m \u001B[38;5;28;01mNone\u001B[39;00m\n\u001B[1;32m    898\u001B[0m     \u001B[38;5;28;01melse\u001B[39;00m:\n\u001B[0;32m--> 899\u001B[0m         \u001B[38;5;28mself\u001B[39m\u001B[38;5;241m.\u001B[39m_content \u001B[38;5;241m=\u001B[39m \u001B[38;5;124;43mb\u001B[39;49m\u001B[38;5;124;43m\"\u001B[39;49m\u001B[38;5;124;43m\"\u001B[39;49m\u001B[38;5;241;43m.\u001B[39;49m\u001B[43mjoin\u001B[49m\u001B[43m(\u001B[49m\u001B[38;5;28;43mself\u001B[39;49m\u001B[38;5;241;43m.\u001B[39;49m\u001B[43miter_content\u001B[49m\u001B[43m(\u001B[49m\u001B[43mCONTENT_CHUNK_SIZE\u001B[49m\u001B[43m)\u001B[49m\u001B[43m)\u001B[49m \u001B[38;5;129;01mor\u001B[39;00m \u001B[38;5;124mb\u001B[39m\u001B[38;5;124m\"\u001B[39m\u001B[38;5;124m\"\u001B[39m\n\u001B[1;32m    901\u001B[0m \u001B[38;5;28mself\u001B[39m\u001B[38;5;241m.\u001B[39m_content_consumed \u001B[38;5;241m=\u001B[39m \u001B[38;5;28;01mTrue\u001B[39;00m\n\u001B[1;32m    902\u001B[0m \u001B[38;5;66;03m# don't need to release the connection; that's been handled by urllib3\u001B[39;00m\n\u001B[1;32m    903\u001B[0m \u001B[38;5;66;03m# since we exhausted the data.\u001B[39;00m\n",
      "File \u001B[0;32m~/.pyenv/versions/3.8.16/lib/python3.8/site-packages/requests/models.py:816\u001B[0m, in \u001B[0;36mResponse.iter_content.<locals>.generate\u001B[0;34m()\u001B[0m\n\u001B[1;32m    814\u001B[0m \u001B[38;5;28;01mif\u001B[39;00m \u001B[38;5;28mhasattr\u001B[39m(\u001B[38;5;28mself\u001B[39m\u001B[38;5;241m.\u001B[39mraw, \u001B[38;5;124m\"\u001B[39m\u001B[38;5;124mstream\u001B[39m\u001B[38;5;124m\"\u001B[39m):\n\u001B[1;32m    815\u001B[0m     \u001B[38;5;28;01mtry\u001B[39;00m:\n\u001B[0;32m--> 816\u001B[0m         \u001B[38;5;28;01myield from\u001B[39;00m \u001B[38;5;28mself\u001B[39m\u001B[38;5;241m.\u001B[39mraw\u001B[38;5;241m.\u001B[39mstream(chunk_size, decode_content\u001B[38;5;241m=\u001B[39m\u001B[38;5;28;01mTrue\u001B[39;00m)\n\u001B[1;32m    817\u001B[0m     \u001B[38;5;28;01mexcept\u001B[39;00m ProtocolError \u001B[38;5;28;01mas\u001B[39;00m e:\n\u001B[1;32m    818\u001B[0m         \u001B[38;5;28;01mraise\u001B[39;00m ChunkedEncodingError(e)\n",
      "File \u001B[0;32m~/.pyenv/versions/3.8.16/lib/python3.8/site-packages/urllib3/response.py:936\u001B[0m, in \u001B[0;36mHTTPResponse.stream\u001B[0;34m(self, amt, decode_content)\u001B[0m\n\u001B[1;32m    934\u001B[0m \u001B[38;5;28;01melse\u001B[39;00m:\n\u001B[1;32m    935\u001B[0m     \u001B[38;5;28;01mwhile\u001B[39;00m \u001B[38;5;129;01mnot\u001B[39;00m is_fp_closed(\u001B[38;5;28mself\u001B[39m\u001B[38;5;241m.\u001B[39m_fp) \u001B[38;5;129;01mor\u001B[39;00m \u001B[38;5;28mlen\u001B[39m(\u001B[38;5;28mself\u001B[39m\u001B[38;5;241m.\u001B[39m_decoded_buffer) \u001B[38;5;241m>\u001B[39m \u001B[38;5;241m0\u001B[39m:\n\u001B[0;32m--> 936\u001B[0m         data \u001B[38;5;241m=\u001B[39m \u001B[38;5;28;43mself\u001B[39;49m\u001B[38;5;241;43m.\u001B[39;49m\u001B[43mread\u001B[49m\u001B[43m(\u001B[49m\u001B[43mamt\u001B[49m\u001B[38;5;241;43m=\u001B[39;49m\u001B[43mamt\u001B[49m\u001B[43m,\u001B[49m\u001B[43m \u001B[49m\u001B[43mdecode_content\u001B[49m\u001B[38;5;241;43m=\u001B[39;49m\u001B[43mdecode_content\u001B[49m\u001B[43m)\u001B[49m\n\u001B[1;32m    938\u001B[0m         \u001B[38;5;28;01mif\u001B[39;00m data:\n\u001B[1;32m    939\u001B[0m             \u001B[38;5;28;01myield\u001B[39;00m data\n",
      "File \u001B[0;32m~/.pyenv/versions/3.8.16/lib/python3.8/site-packages/urllib3/response.py:879\u001B[0m, in \u001B[0;36mHTTPResponse.read\u001B[0;34m(self, amt, decode_content, cache_content)\u001B[0m\n\u001B[1;32m    876\u001B[0m     \u001B[38;5;28;01mif\u001B[39;00m \u001B[38;5;28mlen\u001B[39m(\u001B[38;5;28mself\u001B[39m\u001B[38;5;241m.\u001B[39m_decoded_buffer) \u001B[38;5;241m>\u001B[39m\u001B[38;5;241m=\u001B[39m amt:\n\u001B[1;32m    877\u001B[0m         \u001B[38;5;28;01mreturn\u001B[39;00m \u001B[38;5;28mself\u001B[39m\u001B[38;5;241m.\u001B[39m_decoded_buffer\u001B[38;5;241m.\u001B[39mget(amt)\n\u001B[0;32m--> 879\u001B[0m data \u001B[38;5;241m=\u001B[39m \u001B[38;5;28;43mself\u001B[39;49m\u001B[38;5;241;43m.\u001B[39;49m\u001B[43m_raw_read\u001B[49m\u001B[43m(\u001B[49m\u001B[43mamt\u001B[49m\u001B[43m)\u001B[49m\n\u001B[1;32m    881\u001B[0m flush_decoder \u001B[38;5;241m=\u001B[39m amt \u001B[38;5;129;01mis\u001B[39;00m \u001B[38;5;28;01mNone\u001B[39;00m \u001B[38;5;129;01mor\u001B[39;00m (amt \u001B[38;5;241m!=\u001B[39m \u001B[38;5;241m0\u001B[39m \u001B[38;5;129;01mand\u001B[39;00m \u001B[38;5;129;01mnot\u001B[39;00m data)\n\u001B[1;32m    883\u001B[0m \u001B[38;5;28;01mif\u001B[39;00m \u001B[38;5;129;01mnot\u001B[39;00m data \u001B[38;5;129;01mand\u001B[39;00m \u001B[38;5;28mlen\u001B[39m(\u001B[38;5;28mself\u001B[39m\u001B[38;5;241m.\u001B[39m_decoded_buffer) \u001B[38;5;241m==\u001B[39m \u001B[38;5;241m0\u001B[39m:\n",
      "File \u001B[0;32m~/.pyenv/versions/3.8.16/lib/python3.8/site-packages/urllib3/response.py:814\u001B[0m, in \u001B[0;36mHTTPResponse._raw_read\u001B[0;34m(self, amt)\u001B[0m\n\u001B[1;32m    811\u001B[0m fp_closed \u001B[38;5;241m=\u001B[39m \u001B[38;5;28mgetattr\u001B[39m(\u001B[38;5;28mself\u001B[39m\u001B[38;5;241m.\u001B[39m_fp, \u001B[38;5;124m\"\u001B[39m\u001B[38;5;124mclosed\u001B[39m\u001B[38;5;124m\"\u001B[39m, \u001B[38;5;28;01mFalse\u001B[39;00m)\n\u001B[1;32m    813\u001B[0m \u001B[38;5;28;01mwith\u001B[39;00m \u001B[38;5;28mself\u001B[39m\u001B[38;5;241m.\u001B[39m_error_catcher():\n\u001B[0;32m--> 814\u001B[0m     data \u001B[38;5;241m=\u001B[39m \u001B[38;5;28;43mself\u001B[39;49m\u001B[38;5;241;43m.\u001B[39;49m\u001B[43m_fp_read\u001B[49m\u001B[43m(\u001B[49m\u001B[43mamt\u001B[49m\u001B[43m)\u001B[49m \u001B[38;5;28;01mif\u001B[39;00m \u001B[38;5;129;01mnot\u001B[39;00m fp_closed \u001B[38;5;28;01melse\u001B[39;00m \u001B[38;5;124mb\u001B[39m\u001B[38;5;124m\"\u001B[39m\u001B[38;5;124m\"\u001B[39m\n\u001B[1;32m    815\u001B[0m     \u001B[38;5;28;01mif\u001B[39;00m amt \u001B[38;5;129;01mis\u001B[39;00m \u001B[38;5;129;01mnot\u001B[39;00m \u001B[38;5;28;01mNone\u001B[39;00m \u001B[38;5;129;01mand\u001B[39;00m amt \u001B[38;5;241m!=\u001B[39m \u001B[38;5;241m0\u001B[39m \u001B[38;5;129;01mand\u001B[39;00m \u001B[38;5;129;01mnot\u001B[39;00m data:\n\u001B[1;32m    816\u001B[0m         \u001B[38;5;66;03m# Platform-specific: Buggy versions of Python.\u001B[39;00m\n\u001B[1;32m    817\u001B[0m         \u001B[38;5;66;03m# Close the connection when no data is returned\u001B[39;00m\n\u001B[0;32m   (...)\u001B[0m\n\u001B[1;32m    822\u001B[0m         \u001B[38;5;66;03m# not properly close the connection in all cases. There is\u001B[39;00m\n\u001B[1;32m    823\u001B[0m         \u001B[38;5;66;03m# no harm in redundantly calling close.\u001B[39;00m\n\u001B[1;32m    824\u001B[0m         \u001B[38;5;28mself\u001B[39m\u001B[38;5;241m.\u001B[39m_fp\u001B[38;5;241m.\u001B[39mclose()\n",
      "File \u001B[0;32m~/.pyenv/versions/3.8.16/lib/python3.8/site-packages/urllib3/response.py:799\u001B[0m, in \u001B[0;36mHTTPResponse._fp_read\u001B[0;34m(self, amt)\u001B[0m\n\u001B[1;32m    796\u001B[0m     \u001B[38;5;28;01mreturn\u001B[39;00m buffer\u001B[38;5;241m.\u001B[39mgetvalue()\n\u001B[1;32m    797\u001B[0m \u001B[38;5;28;01melse\u001B[39;00m:\n\u001B[1;32m    798\u001B[0m     \u001B[38;5;66;03m# StringIO doesn't like amt=None\u001B[39;00m\n\u001B[0;32m--> 799\u001B[0m     \u001B[38;5;28;01mreturn\u001B[39;00m \u001B[38;5;28;43mself\u001B[39;49m\u001B[38;5;241;43m.\u001B[39;49m\u001B[43m_fp\u001B[49m\u001B[38;5;241;43m.\u001B[39;49m\u001B[43mread\u001B[49m\u001B[43m(\u001B[49m\u001B[43mamt\u001B[49m\u001B[43m)\u001B[49m \u001B[38;5;28;01mif\u001B[39;00m amt \u001B[38;5;129;01mis\u001B[39;00m \u001B[38;5;129;01mnot\u001B[39;00m \u001B[38;5;28;01mNone\u001B[39;00m \u001B[38;5;28;01melse\u001B[39;00m \u001B[38;5;28mself\u001B[39m\u001B[38;5;241m.\u001B[39m_fp\u001B[38;5;241m.\u001B[39mread()\n",
      "File \u001B[0;32m~/.pyenv/versions/3.8.16/lib/python3.8/http/client.py:459\u001B[0m, in \u001B[0;36mHTTPResponse.read\u001B[0;34m(self, amt)\u001B[0m\n\u001B[1;32m    456\u001B[0m \u001B[38;5;28;01mif\u001B[39;00m amt \u001B[38;5;129;01mis\u001B[39;00m \u001B[38;5;129;01mnot\u001B[39;00m \u001B[38;5;28;01mNone\u001B[39;00m:\n\u001B[1;32m    457\u001B[0m     \u001B[38;5;66;03m# Amount is given, implement using readinto\u001B[39;00m\n\u001B[1;32m    458\u001B[0m     b \u001B[38;5;241m=\u001B[39m \u001B[38;5;28mbytearray\u001B[39m(amt)\n\u001B[0;32m--> 459\u001B[0m     n \u001B[38;5;241m=\u001B[39m \u001B[38;5;28;43mself\u001B[39;49m\u001B[38;5;241;43m.\u001B[39;49m\u001B[43mreadinto\u001B[49m\u001B[43m(\u001B[49m\u001B[43mb\u001B[49m\u001B[43m)\u001B[49m\n\u001B[1;32m    460\u001B[0m     \u001B[38;5;28;01mreturn\u001B[39;00m \u001B[38;5;28mmemoryview\u001B[39m(b)[:n]\u001B[38;5;241m.\u001B[39mtobytes()\n\u001B[1;32m    461\u001B[0m \u001B[38;5;28;01melse\u001B[39;00m:\n\u001B[1;32m    462\u001B[0m     \u001B[38;5;66;03m# Amount is not given (unbounded read) so we must check self.length\u001B[39;00m\n\u001B[1;32m    463\u001B[0m     \u001B[38;5;66;03m# and self.chunked\u001B[39;00m\n",
      "File \u001B[0;32m~/.pyenv/versions/3.8.16/lib/python3.8/http/client.py:503\u001B[0m, in \u001B[0;36mHTTPResponse.readinto\u001B[0;34m(self, b)\u001B[0m\n\u001B[1;32m    498\u001B[0m         b \u001B[38;5;241m=\u001B[39m \u001B[38;5;28mmemoryview\u001B[39m(b)[\u001B[38;5;241m0\u001B[39m:\u001B[38;5;28mself\u001B[39m\u001B[38;5;241m.\u001B[39mlength]\n\u001B[1;32m    500\u001B[0m \u001B[38;5;66;03m# we do not use _safe_read() here because this may be a .will_close\u001B[39;00m\n\u001B[1;32m    501\u001B[0m \u001B[38;5;66;03m# connection, and the user is reading more bytes than will be provided\u001B[39;00m\n\u001B[1;32m    502\u001B[0m \u001B[38;5;66;03m# (for example, reading in 1k chunks)\u001B[39;00m\n\u001B[0;32m--> 503\u001B[0m n \u001B[38;5;241m=\u001B[39m \u001B[38;5;28;43mself\u001B[39;49m\u001B[38;5;241;43m.\u001B[39;49m\u001B[43mfp\u001B[49m\u001B[38;5;241;43m.\u001B[39;49m\u001B[43mreadinto\u001B[49m\u001B[43m(\u001B[49m\u001B[43mb\u001B[49m\u001B[43m)\u001B[49m\n\u001B[1;32m    504\u001B[0m \u001B[38;5;28;01mif\u001B[39;00m \u001B[38;5;129;01mnot\u001B[39;00m n \u001B[38;5;129;01mand\u001B[39;00m b:\n\u001B[1;32m    505\u001B[0m     \u001B[38;5;66;03m# Ideally, we would raise IncompleteRead if the content-length\u001B[39;00m\n\u001B[1;32m    506\u001B[0m     \u001B[38;5;66;03m# wasn't satisfied, but it might break compatibility.\u001B[39;00m\n\u001B[1;32m    507\u001B[0m     \u001B[38;5;28mself\u001B[39m\u001B[38;5;241m.\u001B[39m_close_conn()\n",
      "File \u001B[0;32m~/.pyenv/versions/3.8.16/lib/python3.8/socket.py:669\u001B[0m, in \u001B[0;36mSocketIO.readinto\u001B[0;34m(self, b)\u001B[0m\n\u001B[1;32m    667\u001B[0m \u001B[38;5;28;01mwhile\u001B[39;00m \u001B[38;5;28;01mTrue\u001B[39;00m:\n\u001B[1;32m    668\u001B[0m     \u001B[38;5;28;01mtry\u001B[39;00m:\n\u001B[0;32m--> 669\u001B[0m         \u001B[38;5;28;01mreturn\u001B[39;00m \u001B[38;5;28;43mself\u001B[39;49m\u001B[38;5;241;43m.\u001B[39;49m\u001B[43m_sock\u001B[49m\u001B[38;5;241;43m.\u001B[39;49m\u001B[43mrecv_into\u001B[49m\u001B[43m(\u001B[49m\u001B[43mb\u001B[49m\u001B[43m)\u001B[49m\n\u001B[1;32m    670\u001B[0m     \u001B[38;5;28;01mexcept\u001B[39;00m timeout:\n\u001B[1;32m    671\u001B[0m         \u001B[38;5;28mself\u001B[39m\u001B[38;5;241m.\u001B[39m_timeout_occurred \u001B[38;5;241m=\u001B[39m \u001B[38;5;28;01mTrue\u001B[39;00m\n",
      "File \u001B[0;32m~/.pyenv/versions/3.8.16/lib/python3.8/ssl.py:1241\u001B[0m, in \u001B[0;36mSSLSocket.recv_into\u001B[0;34m(self, buffer, nbytes, flags)\u001B[0m\n\u001B[1;32m   1237\u001B[0m     \u001B[38;5;28;01mif\u001B[39;00m flags \u001B[38;5;241m!=\u001B[39m \u001B[38;5;241m0\u001B[39m:\n\u001B[1;32m   1238\u001B[0m         \u001B[38;5;28;01mraise\u001B[39;00m \u001B[38;5;167;01mValueError\u001B[39;00m(\n\u001B[1;32m   1239\u001B[0m           \u001B[38;5;124m\"\u001B[39m\u001B[38;5;124mnon-zero flags not allowed in calls to recv_into() on \u001B[39m\u001B[38;5;132;01m%s\u001B[39;00m\u001B[38;5;124m\"\u001B[39m \u001B[38;5;241m%\u001B[39m\n\u001B[1;32m   1240\u001B[0m           \u001B[38;5;28mself\u001B[39m\u001B[38;5;241m.\u001B[39m\u001B[38;5;18m__class__\u001B[39m)\n\u001B[0;32m-> 1241\u001B[0m     \u001B[38;5;28;01mreturn\u001B[39;00m \u001B[38;5;28;43mself\u001B[39;49m\u001B[38;5;241;43m.\u001B[39;49m\u001B[43mread\u001B[49m\u001B[43m(\u001B[49m\u001B[43mnbytes\u001B[49m\u001B[43m,\u001B[49m\u001B[43m \u001B[49m\u001B[43mbuffer\u001B[49m\u001B[43m)\u001B[49m\n\u001B[1;32m   1242\u001B[0m \u001B[38;5;28;01melse\u001B[39;00m:\n\u001B[1;32m   1243\u001B[0m     \u001B[38;5;28;01mreturn\u001B[39;00m \u001B[38;5;28msuper\u001B[39m()\u001B[38;5;241m.\u001B[39mrecv_into(buffer, nbytes, flags)\n",
      "File \u001B[0;32m~/.pyenv/versions/3.8.16/lib/python3.8/ssl.py:1099\u001B[0m, in \u001B[0;36mSSLSocket.read\u001B[0;34m(self, len, buffer)\u001B[0m\n\u001B[1;32m   1097\u001B[0m \u001B[38;5;28;01mtry\u001B[39;00m:\n\u001B[1;32m   1098\u001B[0m     \u001B[38;5;28;01mif\u001B[39;00m buffer \u001B[38;5;129;01mis\u001B[39;00m \u001B[38;5;129;01mnot\u001B[39;00m \u001B[38;5;28;01mNone\u001B[39;00m:\n\u001B[0;32m-> 1099\u001B[0m         \u001B[38;5;28;01mreturn\u001B[39;00m \u001B[38;5;28;43mself\u001B[39;49m\u001B[38;5;241;43m.\u001B[39;49m\u001B[43m_sslobj\u001B[49m\u001B[38;5;241;43m.\u001B[39;49m\u001B[43mread\u001B[49m\u001B[43m(\u001B[49m\u001B[38;5;28;43mlen\u001B[39;49m\u001B[43m,\u001B[49m\u001B[43m \u001B[49m\u001B[43mbuffer\u001B[49m\u001B[43m)\u001B[49m\n\u001B[1;32m   1100\u001B[0m     \u001B[38;5;28;01melse\u001B[39;00m:\n\u001B[1;32m   1101\u001B[0m         \u001B[38;5;28;01mreturn\u001B[39;00m \u001B[38;5;28mself\u001B[39m\u001B[38;5;241m.\u001B[39m_sslobj\u001B[38;5;241m.\u001B[39mread(\u001B[38;5;28mlen\u001B[39m)\n",
      "\u001B[0;31mKeyboardInterrupt\u001B[0m: "
     ]
    }
   ],
   "source": [
    "#curr_idx = curr_idx + t_ix + 1\n",
    "#for t_ix, t_url in enumerate(all_topics_list[curr_idx:curr_idx+40]):\n",
    "\n",
    "story_broken = 0\n",
    "topic_page_broken = 0\n",
    "\n",
    "for t_ix, t_url in enumerate(all_topics_list):\n",
    "    topic_url = t_url['href']\n",
    "    topic_url_i = base_url+topic_url\n",
    "    #print(t_url)\n",
    "    page_i = requests.get(topic_url_i)\n",
    "    soup_i = BeautifulSoup(page_i.content, 'html.parser')\n",
    "    #topic_name_i = soup_i.find_all('div',{'class':'pageHeader'})[0].text.replace('\\n','')\n",
    "    #topic_name_i = t_url.text.split(' ')[0].capitalize()\n",
    "    topic_name_i = '_'.join(t_url.text.split(' ')[:-2]).capitalize()\n",
    "    #print(topic_name_i)\n",
    "    n_results_topic_i = int(soup_i.find('div',{'class':'count svelte-zzk411'}).text.split(' ')[0].replace(',', ''))\n",
    "    #print(n_results_topic_i)\n",
    "    n_pages_topic_i = int(soup_i.find('form',{'class':'svelte-10ysaoc'}).text.strip().split(' ')[-1])\n",
    "    #print(n_pages_topic_i)\n",
    "    print(dt.datetime.now(),'\\tStarting',topic_name_i)\n",
    "    out_topic_dict = {}\n",
    "\n",
    "#     for pp in range(1,14):\n",
    "    for pp in range(1,n_pages_topic_i+1):\n",
    "        topic_url_pp = base_url+topic_url+'&Page=' + str(pp) + '&PerPage=20'\n",
    "        page_pp = requests.get(topic_url_pp)\n",
    "        soup_pp = BeautifulSoup(page_pp.content, 'html.parser')\n",
    "        try:\n",
    "            all_stories_pp = soup_pp.find('ol',\n",
    "                                        {'class':'svelte-cxmlsf'}).find_all('li',\n",
    "                                                                                {'class':'svelte-cxmlsf'})\n",
    "        except:\n",
    "            print(\"\\t\\tbroken link:\",topic_url_pp)\n",
    "            topic_page_broken += 1\n",
    "            continue\n",
    "\n",
    "        print('\\t',topic_name_i,'page: %03i/%i ... %i results on this page'%(pp,n_pages_topic_i,\n",
    "                                                        len(all_stories_pp)), dt.datetime.now())\n",
    "#         for sub_story_i in all_stories_pp[:2]:\n",
    "        for sub_story_i in all_stories_pp:\n",
    "            sub_story_url = base_url+sub_story_i.find('a',href=True)['href']\n",
    "            page_i = requests.get(sub_story_url)\n",
    "            soup_i = BeautifulSoup(page_i.content, 'html.parser')\n",
    "            #text_i = soup_i.find_all('div',{'class':'transcript'})\n",
    "            meta_data_list = [dict(zip([i.text for i in x.find_all('dt')],\n",
    "                                       [i.text for i in x.find_all('dd')]))\n",
    "                              for x in soup_i.find_all('dl')]\n",
    "\n",
    "            #print(meta_data_list)\n",
    "\n",
    "            #raw_text_i = \"\\n\\n\".join([i.text for i in\n",
    "                                      #soup_i.find_all('div',{'class':'transcript'})])\n",
    "            try:\n",
    "                # bibl1 = soup_i.find_all('div',{'id':'itemBibli'})[0].find('h2').text\n",
    "                # bibl2 = soup_i.find_all('div',{'id':'itemBibli'})[0].find('p').text\n",
    "                bibl = soup_i.find('p', {'class':'ref svelte-7zi47s'}).text.replace('\\n', '').replace('\\t', '').split(',')\n",
    "                #print(bibl)\n",
    "\n",
    "            except:\n",
    "                print(\"\\t\\tbroken link:\",sub_story_url)\n",
    "                story_broken += 1\n",
    "                continue\n",
    "\n",
    "            school_info_i = soup_i.find_all('li',{'class':'svelte-u5auqg'})[0].find('a').text.replace(\"School: \", \"\").replace(\"Scoil: \", \"\")\n",
    "            #print(school_info_i)\n",
    "            #print(sub_story_i)\n",
    "            #page_info_i = soup_i.find_all('div',{'class':'xml'})[1].text\n",
    "\n",
    "            #title_i = soup_i.find_all('div',{'class':'xml'}\n",
    "                                     #)[2].text.replace('“','').replace('”','')\n",
    "            title_i = sub_story_i.find('h3', {'class':'svelte-1735blr'}).text\n",
    "            #print(title_i)\n",
    "            label_id = sub_story_url.replace('https://www.duchas.ie/en/cbes/','').replace('https://www.duchas.ie/ga/cbes/','').replace('?Route=stories', '')\n",
    "            out_topic_dict[label_id] = {'title':title_i,\n",
    "                                        'bib':[bibl[0].strip(),bibl[1].strip(),bibl[2].strip()],\n",
    "                                        'url':sub_story_url,\n",
    "                                        #'text':raw_text_i,\n",
    "                                        'school_info':school_info_i,\n",
    "                                        'metadata':meta_data_list\n",
    "                                         }\n",
    "            #print(label_id)\n",
    "\n",
    "    if not os.path.exists('../data/out/'):\n",
    "        os.mkdir('../data/out/')\n",
    "\n",
    "    with open('../data/out/schools-collection_%s.json'%topic_name_i, 'w') as fp:\n",
    "        json.dump(out_topic_dict, fp)\n",
    "\n",
    "    print(dt.datetime.now(),'\\tSaving....',topic_name_i,t_ix,'\\n')\n",
    "\n",
    "    all_data[topic_name_i] = out_topic_dict"
   ]
  },
  {
   "cell_type": "code",
   "execution_count": null,
   "metadata": {},
   "outputs": [],
   "source": [
    "print(f\"broken topic pages: ${topic_page_broken}\")\n",
    "print(f\"broken story pages: ${story_broken}\")"
   ]
  },
  {
   "cell_type": "markdown",
   "metadata": {},
   "source": [
    "_________________________"
   ]
  }
 ],
 "metadata": {
  "kernelspec": {
   "display_name": "Python 3 (ipykernel)",
   "language": "python",
   "name": "python3"
  },
  "language_info": {
   "codemirror_mode": {
    "name": "ipython",
    "version": 3
   },
   "file_extension": ".py",
   "mimetype": "text/x-python",
   "name": "python",
   "nbconvert_exporter": "python",
   "pygments_lexer": "ipython3",
   "version": "3.8.16"
  }
 },
 "nbformat": 4,
 "nbformat_minor": 4
}
